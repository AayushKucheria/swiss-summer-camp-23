{
  "cells": [
    {
      "cell_type": "markdown",
      "metadata": {
        "id": "c5quWvWTL-Z7"
      },
      "source": [
        "# [0.4] Optimization & Hyperparameters"
      ]
    },
    {
      "cell_type": "markdown",
      "metadata": {
        "id": "_ROHJak312DL"
      },
      "source": [
        "Colab: [exercises](https://colab.research.google.com/drive/12PiedkLJH9GkIu5F_QC7iFf8gJb3k8mp) | [solutions](https://colab.research.google.com/drive/1yKhqfOJUTcdu0zhuRONjXLCmoLx7frxP)\n",
        "\n",
        "[Streamlit page](https://arena-ch0-fundamentals.streamlit.app/[0.4]_Optimization)\n",
        "\n",
        "Please send any problems / bugs on the `#errata` channel in the [Slack group](https://join.slack.com/t/arena-la82367/shared_invite/zt-1uvoagohe-JUv9xB7Vr143pdx1UBPrzQ), and ask any questions on the dedicated channels for this chapter of material.\n"
      ]
    },
    {
      "cell_type": "markdown",
      "metadata": {
        "id": "v1eUoAXhRa3-"
      },
      "source": [
        "<img src=\"https://raw.githubusercontent.com/callummcdougall/Fundamentals/main/images/stats.png\" width=\"350\">\n"
      ]
    },
    {
      "cell_type": "markdown",
      "metadata": {
        "id": "f0502-wyRh8A"
      },
      "source": [
        "# Introduction\n"
      ]
    },
    {
      "cell_type": "markdown",
      "metadata": {
        "id": "t8tJizi3BOcP"
      },
      "source": [
        "In today's exercises, we will explore various optimization algorithms and their roles in training deep learning models. We will delve into the inner workings of different optimization techniques such as Stochastic Gradient Descent (SGD), RMSprop, and Adam, and learn how to implement them using code. Additionally, we will discuss the concept of loss landscapes and their significance in visualizing the challenges faced during the optimization process. By the end of this set of exercises, you will have a solid understanding of optimization algorithms and their impact on model performance. We'll also take a look at Weights and Biases, a tool that can be used to track and visualize the training process, and test different values of hyperparameters to find the most effective ones.\n"
      ]
    },
    {
      "cell_type": "markdown",
      "metadata": {
        "id": "EcewkMZkBOcP"
      },
      "source": [
        "## Content & Learning Objectives\n"
      ]
    },
    {
      "cell_type": "markdown",
      "metadata": {
        "id": "ErviqJ4vRm15"
      },
      "source": [
        "### 2️⃣ Weights and Biases\n",
        "\n",
        "In this section, we'll look at methods for choosing hyperparameters effectively. You'll learn how to use **Weights and Biases**, a useful tool for hyperparameter search. By the end of today, you should be able to use Weights and Biases to train the ResNet you created in the last set of exercises.\n",
        "\n",
        "> ##### Learning Objectives\n",
        ">\n",
        "> * Learn what the most important hyperparameters are, and methods for efficiently searching over hyperparameter space\n",
        "> * Adapt your code from yesterday to log training runs to Weights & Biases, and use this service to run hyperparameter sweeps\n",
        "\n",
        "### 3️⃣ Bonus\n",
        "\n",
        "This section gives you suggestions for further exploration of optimizers, and Weights & Biases.\n"
      ]
    },
    {
      "cell_type": "markdown",
      "metadata": {
        "id": "Na3PD6GwlBSk"
      },
      "source": [
        "## Setup (don't read, just run!)\n"
      ]
    },
    {
      "cell_type": "code",
      "execution_count": 1,
      "metadata": {
        "id": "6Za2YIkzBOcQ"
      },
      "outputs": [],
      "source": [
        "try:\n",
        "    import google.colab # type: ignore\n",
        "    IN_COLAB = True\n",
        "except:\n",
        "    IN_COLAB = False\n",
        "\n",
        "if IN_COLAB:\n",
        "    # Install packages\n",
        "    %pip install torchinfo\n",
        "    %pip install transformer_lens\n",
        "\n",
        "    # Code to download the necessary files (e.g. solutions, test funcs)\n",
        "    import os, sys\n",
        "    if not os.path.exists(\"chapter0_fundamentals\"):\n",
        "        !wget https://github.com/callummcdougall/ARENA_2.0/archive/refs/heads/main.zip\n",
        "        !unzip /content/main.zip 'ARENA_2.0-main/chapter0_fundamentals/exercises/*'\n",
        "        sys.path.append(\"/content/ARENA_2.0-main/chapter0_fundamentals/exercises\")\n",
        "        os.remove(\"/content/main.zip\")\n",
        "        os.rename(\"ARENA_2.0-main/chapter0_fundamentals\", \"chapter0_fundamentals\")\n",
        "        os.rmdir(\"ARENA_2.0-main\")\n",
        "        os.chdir(\"chapter0_fundamentals/exercises\")\n",
        "else:\n",
        "    from IPython import get_ipython\n",
        "    ipython = get_ipython()\n",
        "    ipython.run_line_magic(\"load_ext\", \"autoreload\")\n",
        "    ipython.run_line_magic(\"autoreload\", \"2\")\n",
        "\n",
        "# Things that need to be done manually\n",
        "\n",
        "# Nothing\n",
        "\n",
        "# END"
      ]
    },
    {
      "cell_type": "code",
      "execution_count": 2,
      "metadata": {
        "id": "u9IS6vS4lEo4"
      },
      "outputs": [
        {
          "name": "stderr",
          "output_type": "stream",
          "text": [
            "C:\\Users\\denis.rosset\\AppData\\Local\\Packages\\PythonSoftwareFoundation.Python.3.10_qbz5n2kfra8p0\\LocalCache\\local-packages\\Python310\\site-packages\\tqdm\\auto.py:21: TqdmWarning: IProgress not found. Please update jupyter and ipywidgets. See https://ipywidgets.readthedocs.io/en/stable/user_install.html\n",
            "  from .autonotebook import tqdm as notebook_tqdm\n"
          ]
        }
      ],
      "source": [
        "import os; os.environ[\"ACCELERATE_DISABLE_RICH\"] = \"1\"\n",
        "import sys\n",
        "import pandas as pd\n",
        "import torch as t\n",
        "from torch import Tensor, optim\n",
        "import torch.nn.functional as F\n",
        "from torchvision import datasets\n",
        "from torch.utils.data import DataLoader, Subset\n",
        "from typing import Callable, Iterable, Tuple, Optional, Type\n",
        "from jaxtyping import Float\n",
        "from dataclasses import dataclass\n",
        "from tqdm.notebook import tqdm\n",
        "from pathlib import Path\n",
        "import numpy as np\n",
        "from IPython.display import display, HTML\n",
        "\n",
        "# Make sure exercises are in the path\n",
        "chapter = r\"chapter0_fundamentals\"\n",
        "if IN_COLAB:\n",
        "    exercises_dir = Path(f\"{os.getcwd().split(chapter)[0]}/{chapter}/exercises\").resolve()\n",
        "else:\n",
        "    exercises_dir = Path(f\"{os.getcwd().split(chapter)[0]}/utils/{chapter}/exercises\").resolve()\n",
        "section_dir = exercises_dir / \"part4_optimization\"\n",
        "if str(exercises_dir) not in sys.path: sys.path.append(str(exercises_dir))\n",
        "os.chdir(section_dir)\n",
        "\n",
        "from plotly_utils import bar, imshow, plot_train_loss_and_test_accuracy_from_trainer\n",
        "from part3_resnets.solutions import IMAGENET_TRANSFORM, ResNet34, get_resnet_for_feature_extraction\n",
        "from part4_optimization.utils import plot_fn, plot_fn_with_points\n",
        "import part4_optimization.tests as tests\n",
        "\n",
        "device = t.device(\"cuda\" if t.cuda.is_available() else \"cpu\")\n",
        "\n",
        "MAIN = __name__ == \"__main__\""
      ]
    },
    {
      "cell_type": "markdown",
      "metadata": {
        "id": "pSCYV7G4BOcR"
      },
      "source": [
        "<details>\n",
        "<summary>Help - I get a NumPy-related error</summary>\n",
        "\n",
        "This is an annoying colab-related issue which I haven't been able to find a satisfying fix for. If you restart runtime (but don't delete runtime), and run just the imports cell above again (but not the `%pip install` cell), the problem should go away.\n",
        "</details>\n"
      ]
    },
    {
      "cell_type": "markdown",
      "metadata": {
        "id": "k9dJxteKhMtz"
      },
      "source": [
        "# 2️⃣ Weights and Biases\n"
      ]
    },
    {
      "cell_type": "markdown",
      "metadata": {
        "id": "wylIMmp9KG7e"
      },
      "source": [
        "> ##### Learning Objectives\n",
        ">\n",
        "> * Learn what the most important hyperparameters are, and methods for efficiently searching over hyperparameter space\n",
        "> * Adapt your code from yesterday to log training runs to Weights & Biases, and use this service to run hyperparameter sweeps\n"
      ]
    },
    {
      "cell_type": "markdown",
      "metadata": {
        "id": "BODPLZgUk8MN"
      },
      "source": [
        "Next, we'll look at methods for choosing hyperparameters effectively. You'll learn how to use **Weights and Biases**, a useful tool for hyperparameter search.\n",
        "\n",
        "The exercises themselves will be based on your ResNet implementations from yesterday, although the principles should carry over to other models you'll build in this course (such as transformers next week).\n",
        "\n",
        "Note, this page only contains a few exercises, and they're relatively short. You're encouraged to spend some time playing around with Weights and Biases, but you should also spend some more time finetuning your ResNet from yesterday (you might want to finetune ResNet during the morning, and look at today's material in the afternoon - you can discuss this with your partner). You should also spend some time reviewing the last three days of material, to make sure there are no large gaps in your understanding.\n"
      ]
    },
    {
      "cell_type": "markdown",
      "metadata": {
        "id": "j20OdUwAk9aP"
      },
      "source": [
        "## CIFAR10\n",
        "\n",
        "The benchmark we'll be training on is [CIFAR10](https://www.cs.toronto.edu/~kriz/cifar.html), which consists of 60000 32x32 colour images in 10 different classes. Don't peek at what other people online have done for CIFAR10 (it's a common benchmark), because the point is to develop your own process by which you can figure out how to improve your model. Just reading the results of someone else would prevent you from learning how to get the answers. To get an idea of what's possible: using one V100 and a modified ResNet, one entry in the DAWNBench competition was able to achieve 94% test accuracy in 24 epochs and 76 seconds. 94% is approximately [human level performance](http://karpathy.github.io/2011/04/27/manually-classifying-cifar10/).\n",
        "\n",
        "Below is some boilerplate code for downloading and transforming `CIFAR10` data (this shouldn't take more than a minute to run the first time). There are a few differences between this and our code yesterday week - for instance, we omit the `transforms.Resize` from our `transform` object, because CIFAR10 data is already the correct size (unlike the sample images from last week).\n"
      ]
    },
    {
      "cell_type": "code",
      "execution_count": 1,
      "metadata": {
        "colab": {
          "base_uri": "https://localhost:8080/"
        },
        "id": "Nzu3YWRkk_CZ",
        "outputId": "4c146494-cb82-4307-a223-ca9a3ec52b90"
      },
      "outputs": [
        {
          "ename": "NameError",
          "evalue": "name 'datasets' is not defined",
          "output_type": "error",
          "traceback": [
            "\u001b[1;31m---------------------------------------------------------------------------\u001b[0m",
            "\u001b[1;31mNameError\u001b[0m                                 Traceback (most recent call last)",
            "\u001b[1;32mc:\\Users\\denis.rosset\\Documents\\workspace\\camp\\summer-camp-23\\day01\\ex_2_optimization.ipynb Cell 69\u001b[0m in \u001b[0;36m9\n\u001b[0;32m      <a href='vscode-notebook-cell:/c%3A/Users/denis.rosset/Documents/workspace/camp/summer-camp-23/day01/ex_2_optimization.ipynb#Y125sZmlsZQ%3D%3D?line=5'>6</a>\u001b[0m         cifar_testset \u001b[39m=\u001b[39m Subset(cifar_testset, indices\u001b[39m=\u001b[39m\u001b[39mrange\u001b[39m(\u001b[39m0\u001b[39m, \u001b[39mlen\u001b[39m(cifar_testset), subset))\n\u001b[0;32m      <a href='vscode-notebook-cell:/c%3A/Users/denis.rosset/Documents/workspace/camp/summer-camp-23/day01/ex_2_optimization.ipynb#Y125sZmlsZQ%3D%3D?line=6'>7</a>\u001b[0m     \u001b[39mreturn\u001b[39;00m cifar_trainset, cifar_testset\n\u001b[1;32m----> <a href='vscode-notebook-cell:/c%3A/Users/denis.rosset/Documents/workspace/camp/summer-camp-23/day01/ex_2_optimization.ipynb#Y125sZmlsZQ%3D%3D?line=8'>9</a>\u001b[0m cifar_trainset, cifar_testset \u001b[39m=\u001b[39m get_cifar()\n\u001b[0;32m     <a href='vscode-notebook-cell:/c%3A/Users/denis.rosset/Documents/workspace/camp/summer-camp-23/day01/ex_2_optimization.ipynb#Y125sZmlsZQ%3D%3D?line=10'>11</a>\u001b[0m imshow(\n\u001b[0;32m     <a href='vscode-notebook-cell:/c%3A/Users/denis.rosset/Documents/workspace/camp/summer-camp-23/day01/ex_2_optimization.ipynb#Y125sZmlsZQ%3D%3D?line=11'>12</a>\u001b[0m     cifar_trainset\u001b[39m.\u001b[39mdata[:\u001b[39m15\u001b[39m],\n\u001b[0;32m     <a href='vscode-notebook-cell:/c%3A/Users/denis.rosset/Documents/workspace/camp/summer-camp-23/day01/ex_2_optimization.ipynb#Y125sZmlsZQ%3D%3D?line=12'>13</a>\u001b[0m     facet_col\u001b[39m=\u001b[39m\u001b[39m0\u001b[39m,\n\u001b[1;32m   (...)\u001b[0m\n\u001b[0;32m     <a href='vscode-notebook-cell:/c%3A/Users/denis.rosset/Documents/workspace/camp/summer-camp-23/day01/ex_2_optimization.ipynb#Y125sZmlsZQ%3D%3D?line=16'>17</a>\u001b[0m     height\u001b[39m=\u001b[39m\u001b[39m600\u001b[39m\n\u001b[0;32m     <a href='vscode-notebook-cell:/c%3A/Users/denis.rosset/Documents/workspace/camp/summer-camp-23/day01/ex_2_optimization.ipynb#Y125sZmlsZQ%3D%3D?line=17'>18</a>\u001b[0m )\n",
            "\u001b[1;32mc:\\Users\\denis.rosset\\Documents\\workspace\\camp\\summer-camp-23\\day01\\ex_2_optimization.ipynb Cell 69\u001b[0m in \u001b[0;36m2\n\u001b[0;32m      <a href='vscode-notebook-cell:/c%3A/Users/denis.rosset/Documents/workspace/camp/summer-camp-23/day01/ex_2_optimization.ipynb#Y125sZmlsZQ%3D%3D?line=0'>1</a>\u001b[0m \u001b[39mdef\u001b[39;00m \u001b[39mget_cifar\u001b[39m(subset: \u001b[39mint\u001b[39m \u001b[39m=\u001b[39m \u001b[39m1\u001b[39m):\n\u001b[1;32m----> <a href='vscode-notebook-cell:/c%3A/Users/denis.rosset/Documents/workspace/camp/summer-camp-23/day01/ex_2_optimization.ipynb#Y125sZmlsZQ%3D%3D?line=1'>2</a>\u001b[0m     cifar_trainset \u001b[39m=\u001b[39m datasets\u001b[39m.\u001b[39mCIFAR10(root\u001b[39m=\u001b[39m\u001b[39m'\u001b[39m\u001b[39m./data\u001b[39m\u001b[39m'\u001b[39m, train\u001b[39m=\u001b[39m\u001b[39mTrue\u001b[39;00m, download\u001b[39m=\u001b[39m\u001b[39mTrue\u001b[39;00m, transform\u001b[39m=\u001b[39mIMAGENET_TRANSFORM)\n\u001b[0;32m      <a href='vscode-notebook-cell:/c%3A/Users/denis.rosset/Documents/workspace/camp/summer-camp-23/day01/ex_2_optimization.ipynb#Y125sZmlsZQ%3D%3D?line=2'>3</a>\u001b[0m     cifar_testset \u001b[39m=\u001b[39m datasets\u001b[39m.\u001b[39mCIFAR10(root\u001b[39m=\u001b[39m\u001b[39m'\u001b[39m\u001b[39m./data\u001b[39m\u001b[39m'\u001b[39m, train\u001b[39m=\u001b[39m\u001b[39mFalse\u001b[39;00m, download\u001b[39m=\u001b[39m\u001b[39mTrue\u001b[39;00m, transform\u001b[39m=\u001b[39mIMAGENET_TRANSFORM)\n\u001b[0;32m      <a href='vscode-notebook-cell:/c%3A/Users/denis.rosset/Documents/workspace/camp/summer-camp-23/day01/ex_2_optimization.ipynb#Y125sZmlsZQ%3D%3D?line=3'>4</a>\u001b[0m     \u001b[39mif\u001b[39;00m subset \u001b[39m>\u001b[39m \u001b[39m1\u001b[39m:\n",
            "\u001b[1;31mNameError\u001b[0m: name 'datasets' is not defined"
          ]
        }
      ],
      "source": [
        "def get_cifar(subset: int = 1):\n",
        "    cifar_trainset = datasets.CIFAR10(root='./data', train=True, download=True, transform=IMAGENET_TRANSFORM)\n",
        "    cifar_testset = datasets.CIFAR10(root='./data', train=False, download=True, transform=IMAGENET_TRANSFORM)\n",
        "    if subset > 1:\n",
        "        cifar_trainset = Subset(cifar_trainset, indices=range(0, len(cifar_trainset), subset))\n",
        "        cifar_testset = Subset(cifar_testset, indices=range(0, len(cifar_testset), subset))\n",
        "    return cifar_trainset, cifar_testset\n",
        "\n",
        "cifar_trainset, cifar_testset = get_cifar()\n",
        "\n",
        "imshow(\n",
        "    cifar_trainset.data[:15],\n",
        "    facet_col=0,\n",
        "    facet_col_wrap=5,\n",
        "    facet_labels=[cifar_trainset.classes[i] for i in cifar_trainset.targets[:15]],\n",
        "    title=\"CIFAR-10 images\",\n",
        "    height=600\n",
        ")"
      ]
    },
    {
      "cell_type": "markdown",
      "metadata": {
        "id": "dZZ_7GHpnYiB"
      },
      "source": [
        "We have also provided a basic training & testing loop, almost identical to the one you used yesterday. This one doesn't use `wandb` at all, although it does plot the train loss and test accuracy when the function finishes running. You should run this function to verify your model is working, and that the loss is going down. Also, make sure you understand what each part of this function is doing.\n"
      ]
    },
    {
      "cell_type": "markdown",
      "metadata": {
        "id": "Y_9f9_ronhDY"
      },
      "source": [
        "## Train function - simple (from yesterday)\n"
      ]
    },
    {
      "cell_type": "markdown",
      "metadata": {
        "id": "zz5P_pSNnacY"
      },
      "source": [
        "First, let's take our dataclass from yesterday, to hold our training arguments."
      ]
    },
    {
      "cell_type": "code",
      "execution_count": null,
      "metadata": {
        "id": "d4OfIPWYKG7f"
      },
      "outputs": [],
      "source": [
        "@dataclass\n",
        "class ResNetTrainingArgs():\n",
        "    batch_size: int = 64\n",
        "    epochs: int = 3\n",
        "    optimizer: Type[t.optim.Optimizer] = t.optim.Adam\n",
        "    learning_rate: float = 1e-3\n",
        "    n_classes: int = 10\n",
        "    subset: int = 10"
      ]
    },
    {
      "cell_type": "markdown",
      "metadata": {
        "id": "xo4Xvi98KG7f"
      },
      "source": [
        "Next, here's some code to train our model (taken from yesterday's CNN solutions). You should feel free to replace it with your own implementation, if you prefer.\n"
      ]
    },
    {
      "cell_type": "code",
      "execution_count": null,
      "metadata": {
        "id": "katLUR-IKG7f"
      },
      "outputs": [],
      "source": [
        "class ResNetTrainer:\n",
        "\tdef __init__(self, args: ResNetTrainingArgs):\n",
        "\t\tself.args = args\n",
        "\t\tself.model = get_resnet_for_feature_extraction(args.n_classes).to(device)\n",
        "\t\tself.optimizer = args.optimizer(self.model.out_layers[-1].parameters(), lr=args.learning_rate)\n",
        "\t\tself.trainset, self.testset = get_cifar(subset=args.subset)\n",
        "\t\tself.logged_variables = {\"loss\": [], \"accuracy\": []}\n",
        "\n",
        "\tdef _shared_train_val_step(self, imgs: Tensor, labels: Tensor) -> Tuple[Tensor, Tensor]:\n",
        "\t\timgs = imgs.to(device)\n",
        "\t\tlabels = labels.to(device)\n",
        "\t\tlogits = self.model(imgs)\n",
        "\t\treturn logits, labels\n",
        "\n",
        "\tdef training_step(self, imgs: Tensor, labels: Tensor) -> t.Tensor:\n",
        "\t\tlogits, labels = self._shared_train_val_step(imgs, labels)\n",
        "\t\tloss = F.cross_entropy(logits, labels)\n",
        "\t\tself.update_step(loss)\n",
        "\t\treturn loss\n",
        "\n",
        "\t@t.inference_mode()\n",
        "\tdef validation_step(self, imgs: Tensor, labels: Tensor) -> t.Tensor:\n",
        "\t\tlogits, labels = self._shared_train_val_step(imgs, labels)\n",
        "\t\tclassifications = logits.argmax(dim=1)\n",
        "\t\tn_correct = t.sum(classifications == labels)\n",
        "\t\treturn n_correct\n",
        "\n",
        "\tdef update_step(self, loss: Float[Tensor, '']):\n",
        "\t\tloss.backward()\n",
        "\t\tself.optimizer.step()\n",
        "\t\tself.optimizer.zero_grad()\n",
        "\n",
        "\tdef train_dataloader(self):\n",
        "        self.model.train()\n",
        "\t\treturn DataLoader(self.trainset, batch_size=self.args.batch_size, shuffle=True)\n",
        "\n",
        "\tdef val_dataloader(self):\n",
        "        self.model.eval()\n",
        "\t\treturn DataLoader(self.testset, batch_size=self.args.batch_size, shuffle=True)\n",
        "\n",
        "\tdef train(self):\n",
        "\t\tprogress_bar = tqdm(total=self.args.epochs * len(self.trainset) // self.args.batch_size)\n",
        "\t\taccuracy = t.nan\n",
        "\n",
        "\t\tfor epoch in range(self.args.epochs):\n",
        "\n",
        "\t\t\t# Training loop (includes updating progress bar)\n",
        "\t\t\tfor imgs, labels in self.train_dataloader():\n",
        "\t\t\t\tloss = self.training_step(imgs, labels)\n",
        "\t\t\t\tself.logged_variables[\"loss\"].append(loss.item())\n",
        "\t\t\t\tdesc = f\"Epoch {epoch+1}/{self.args.epochs}, Loss = {loss:.2f}, Accuracy = {accuracy:.2f}\"\n",
        "\t\t\t\tprogress_bar.set_description(desc)\n",
        "\t\t\t\tprogress_bar.update()\n",
        "\n",
        "\t\t\t# Compute accuracy by summing n_correct over all batches, and dividing by number of items\n",
        "\t\t\taccuracy = sum(self.validation_step(imgs, labels) for imgs, labels in self.val_dataloader()) / len(self.testset)\n",
        "\n",
        "\t\t\tself.logged_variables[\"accuracy\"].append(accuracy.item())"
      ]
    },
    {
      "cell_type": "markdown",
      "metadata": {
        "id": "9zidQJWgKG7f"
      },
      "source": [
        "Lastly, we run our model.\n"
      ]
    },
    {
      "cell_type": "code",
      "execution_count": null,
      "metadata": {
        "id": "kB08qVXNKG7f"
      },
      "outputs": [],
      "source": [
        "args = ResNetTrainingArgs()\n",
        "trainer = ResNetTrainer(args)\n",
        "trainer.train()"
      ]
    },
    {
      "cell_type": "code",
      "execution_count": null,
      "metadata": {
        "id": "XlrgrckZ8ugs"
      },
      "outputs": [],
      "source": [
        "plot_train_loss_and_test_accuracy_from_trainer(trainer, title=\"Training ResNet on MNIST data\")"
      ]
    },
    {
      "cell_type": "markdown",
      "metadata": {
        "id": "QACsHrQfKG7g"
      },
      "source": [
        "Let's see how well our ResNet performs on the first few inputs!\n"
      ]
    },
    {
      "cell_type": "code",
      "execution_count": null,
      "metadata": {
        "id": "gDEcw3v4KG7g"
      },
      "outputs": [],
      "source": [
        "def test_resnet_on_random_input(model: ResNet34, n_inputs: int = 3):\n",
        "\tindices = np.random.choice(len(cifar_trainset), n_inputs).tolist()\n",
        "\tclasses = [cifar_trainset.classes[cifar_trainset.targets[i]] for i in indices]\n",
        "\timgs = cifar_trainset.data[indices]\n",
        "\tdevice = next(model.parameters()).device\n",
        "\twith t.inference_mode():\n",
        "\t\tx = t.stack(list(map(IMAGENET_TRANSFORM, imgs)))\n",
        "\t\tlogits: t.Tensor = model(x.to(device))\n",
        "\tprobs = logits.softmax(-1)\n",
        "\tif probs.ndim == 1: probs = probs.unsqueeze(0)\n",
        "\tfor img, label, prob in zip(imgs, classes, probs):\n",
        "\t\tdisplay(HTML(f\"<h2>Classification probabilities (true class = {label})</h2>\"))\n",
        "\t\timshow(\n",
        "\t\t\timg,\n",
        "\t\t\twidth=200, height=200, margin=0,\n",
        "\t\t\txaxis_visible=False, yaxis_visible=False\n",
        "\t\t)\n",
        "\t\tbar(\n",
        "\t\t\tprob,\n",
        "\t\t\tx=cifar_trainset.classes,\n",
        "\t\t\ttemplate=\"ggplot2\", width=600, height=400,\n",
        "\t\t\tlabels={\"x\": \"Classification\", \"y\": \"Probability\"},\n",
        "\t\t\ttext_auto='.2f', showlegend=False,\n",
        "\t\t)\n",
        "\n",
        "\n",
        "test_resnet_on_random_input(trainer.model)"
      ]
    },
    {
      "cell_type": "markdown",
      "metadata": {
        "id": "VrTJ3_mBKG7g"
      },
      "source": [
        "## What is Weights and Biases?\n",
        "\n",
        "Weights and Biases is a cloud service that allows you to log data from experiments. Your logged data is shown in graphs during training, and you can easily compare logs across different runs. It also allows you to run **sweeps**, where you can specifiy a distribution over hyperparameters and then start a sequence of test runs which use hyperparameters sampled from this distribution.\n",
        "\n",
        "Before you run any of the code below, you should visit the [Weights and Biases homepage](https://wandb.ai/home), and create your own account.\n"
      ]
    },
    {
      "cell_type": "code",
      "execution_count": null,
      "metadata": {
        "id": "bfZQBuMiKG7g"
      },
      "outputs": [],
      "source": [
        "import wandb"
      ]
    },
    {
      "cell_type": "markdown",
      "metadata": {
        "id": "IJ7qUgJ5KG7g"
      },
      "source": [
        "We'll be able to keep the same structure of training loop when using weights and biases, we'll just have to add a few functions. The key functions to know are:\n"
      ]
    },
    {
      "cell_type": "markdown",
      "metadata": {
        "id": "N0PBSgy881k1"
      },
      "source": [
        "#### `wandb.init`\n",
        "\n",
        "This initialises a training run. It should be called once, at the start of your training loop.\n",
        "\n",
        "A few important arguments are:\n",
        "\n",
        "* `project` - the name of the project where you're sending the new run. For example, this could be `'day4-resnet'` for us. You can have many different runs in each project.\n",
        "* `name` - a display name for this run. By default, if this isn't supplied, wandb generates a random 2-word name for you (e.g. `gentle-sunflower-42`).\n",
        "* `config` - a dictionary containing hyperparameters for this run. If you pass this dictionary, then you can compare different runs' hyperparameters & results in a single table. Alternatively, you can pass a dataclass.\n",
        "\n",
        "For these first two, we'll create a new dataclass (which inherits from our previous one, so gets all the same data plus this new data):"
      ]
    },
    {
      "cell_type": "code",
      "execution_count": null,
      "metadata": {
        "id": "-ecwJA9h9E6F"
      },
      "outputs": [],
      "source": [
        "@dataclass\n",
        "class ResNetTrainingArgsWandb(ResNetTrainingArgs):\n",
        "    wandb_project: Optional[str] = 'day4-resnet'\n",
        "    wandb_name: Optional[str] = None"
      ]
    },
    {
      "cell_type": "markdown",
      "metadata": {
        "id": "ZtjGF2FZ85im"
      },
      "source": [
        "#### `wandb.watch`\n",
        "\n",
        "This function tells wandb to watch a model. This means that it will log the gradients and parameters of the model during training. We'll call this function once, after we've created our model.\n",
        "\n",
        "The first argument to this function is your model (or a list of models). Another two important arguments:\n",
        "\n",
        "* `log`, which can take the value `'gradients'`, `'parameters'`, or `'all'`, and which determines what gets tracked. Default is `'gradients'`.\n",
        "* `log_freq`, which is an integer. Logging happens once every `log_freq` batches. Default is 1000."
      ]
    },
    {
      "cell_type": "markdown",
      "metadata": {
        "id": "nK-tJLIo9KtY"
      },
      "source": [
        "#### `wandb.log`\n",
        "\n",
        "For logging metrics to the wandb dashboard. This is used as `wandb.log(data, step)`, where `step` is an integer (the x-axis on your metric plots) and `data` is a dictionary of metrics (i.e. the keys are metric names, and the values are metric values)."
      ]
    },
    {
      "cell_type": "markdown",
      "metadata": {
        "id": "CZ-8Uipn9L4e"
      },
      "source": [
        "#### `wandb.finish`\n",
        "\n",
        "This function should be called at the end of your training loop. It finishes the run, and saves the results to the cloud. If you terminate a run early, remember to still call this."
      ]
    },
    {
      "cell_type": "markdown",
      "metadata": {
        "id": "rW74ybbJ9QNB"
      },
      "source": [
        "### Exercise - rewrite training loop\n",
        "\n",
        "```c\n",
        "Difficulty: 🟠🟠⚪⚪⚪\n",
        "Importance: 🟠🟠🟠🟠⚪\n",
        "\n",
        "You should spend up to 10-20 minutes on this exercise.\n",
        "```"
      ]
    },
    {
      "cell_type": "markdown",
      "metadata": {
        "id": "fflJ09Cx9RYD"
      },
      "source": [
        "You should now take the training loop from above (or your own implementation - whichever you prefer) and rewrite it to use the four weights and biases functions above.\n",
        "\n",
        "A few notes:\n",
        "\n",
        "* You can get rid of the dictionary for logging variables, because you'll be using `wandb.log` instead.\n",
        "* It's often useful to have a global `step` variable in your training code, which keeps track of the number of update steps which have taken place. You can pass this step argument to `wandb.log`. Alternatively, you can just omit the `step` argument.\n",
        "* If you use `wandb.watch`, you'll need to decrease the `log_freq` value (since your training by default has less than 1000 batches). You'll also want to log just the parameters that are changing (remember that most of them are frozen). See yesterday's code for how to do this (specifically, the `get_resnet_for_feature_extraction` function).\n",
        "\n"
      ]
    },
    {
      "cell_type": "code",
      "execution_count": null,
      "metadata": {
        "id": "zKs89vwB9T3R"
      },
      "outputs": [],
      "source": [
        "# YOUR CODE HERE - write `ResNetTrainerWandb` class\n",
        "\n",
        "\n",
        "args = ResNetTrainingArgsWandb()\n",
        "trainer = ResNetTrainerWandb(args)\n",
        "trainer.train()"
      ]
    },
    {
      "cell_type": "markdown",
      "metadata": {
        "id": "AYeQvLDnEdxP"
      },
      "source": [
        "When you run the code for the first time, you'll have to login to Weights and Biases, and paste an API key into VSCode. After this is done, your Weights and Biases training run will start. It'll give you a lot of output text, one line of which will look like:\n",
        "\n",
        "```\n",
        "View run at https://wandb.ai/<USERNAME>/<PROJECT-NAME>/runs/<RUN-NAME>\n",
        "```\n",
        "\n",
        "which you can click on to visit the run page.\n",
        "\n",
        "A nice thing about using Weights and Biases is that you don't need to worry about generating your own plots, that will all be done for you when you visit the page."
      ]
    },
    {
      "cell_type": "markdown",
      "metadata": {
        "id": "2xwM3rTa9UaE"
      },
      "source": [
        "<details>\n",
        "<summary>Solution (one implementation)</summary>\n",
        "\n",
        "```python\n",
        "class ResNetTrainerWandb:\n",
        "\tdef __init__(self, args: ResNetTrainingArgsWandb):\n",
        "\t\tself.args = args\n",
        "\t\tself.model = get_resnet_for_feature_extraction(args.n_classes).to(device)\n",
        "\t\tself.optimizer = args.optimizer(self.model.out_layers[-1].parameters(), lr=args.learning_rate)\n",
        "\t\tself.trainset, self.testset = get_cifar(subset=args.subset)\n",
        "\t\tself.step = 0\n",
        "\t\twandb.init(project=args.wandb_project, name=args.wandb_name, config=args)\n",
        "\t\twandb.watch(self.model.out_layers[-1], log=\"all\", log_freq=20)\n",
        "\n",
        "\tdef _shared_train_val_step(self, imgs: Tensor, labels: Tensor) -> Tuple[Tensor, Tensor]:\n",
        "\t\timgs = imgs.to(device)\n",
        "\t\tlabels = labels.to(device)\n",
        "\t\tlogits = self.model(imgs)\n",
        "\t\treturn logits, labels\n",
        "\n",
        "\tdef training_step(self, imgs: Tensor, labels: Tensor) -> t.Tensor:\n",
        "\t\tlogits, labels = self._shared_train_val_step(imgs, labels)\n",
        "\t\tloss = F.cross_entropy(logits, labels)\n",
        "\t\tself.update_step(loss)\n",
        "\t\treturn loss\n",
        "\n",
        "\t@t.inference_mode()\n",
        "\tdef validation_step(self, imgs: Tensor, labels: Tensor) -> t.Tensor:\n",
        "\t\tlogits, labels = self._shared_train_val_step(imgs, labels)\n",
        "\t\tclassifications = logits.argmax(dim=1)\n",
        "\t\tn_correct = t.sum(classifications == labels)\n",
        "\t\treturn n_correct\n",
        "\n",
        "\tdef update_step(self, loss: Float[Tensor, '']):\n",
        "\t\tloss.backward()\n",
        "\t\tself.optimizer.step()\n",
        "\t\tself.optimizer.zero_grad()\n",
        "\t\tself.step += 1\n",
        "\n",
        "\tdef train_dataloader(self):\n",
        "\t\tself.model.train()\n",
        "\t\treturn DataLoader(self.trainset, batch_size=self.args.batch_size, shuffle=True)\n",
        "\n",
        "\tdef val_dataloader(self):\n",
        "\t\tself.model.eval()\n",
        "\t\treturn DataLoader(self.testset, batch_size=self.args.batch_size, shuffle=True)\n",
        "\n",
        "\tdef train(self):\n",
        "\t\tprogress_bar = tqdm(total=self.args.epochs * len(self.trainset) // self.args.batch_size)\n",
        "\t\taccuracy = t.nan\n",
        "\n",
        "\t\tfor epoch in range(self.args.epochs):\n",
        "\n",
        "\t\t\t# Training loop (includes updating progress bar)\n",
        "\t\t\tfor imgs, labels in self.train_dataloader():\n",
        "\t\t\t\tloss = self.training_step(imgs, labels)\n",
        "\t\t\t\twandb.log({\"loss\": loss.item()}, step=self.step)\n",
        "\t\t\t\tdesc = f\"Epoch {epoch+1}/{self.args.epochs}, Loss = {loss:.2f}, Accuracy = {accuracy:.2f}\"\n",
        "\t\t\t\tprogress_bar.set_description(desc)\n",
        "\t\t\t\tprogress_bar.update()\n",
        "\n",
        "\t\t\t# Compute accuracy by summing n_correct over all batches, and dividing by number of items\n",
        "\t\t\taccuracy = sum(self.validation_step(imgs, labels) for imgs, labels in self.val_dataloader()) / len(self.testset)\n",
        "\t\t\twandb.log({\"accuracy\": accuracy.item()}, step=self.step)\n",
        "\n",
        "\t\twandb.finish()\n",
        "```\n",
        "</details>"
      ]
    },
    {
      "cell_type": "markdown",
      "metadata": {
        "id": "PdPdWUIr9wBE"
      },
      "source": [
        "### Run & project pages\n",
        "\n",
        "The page you visit will show you a plot of all the variables you've logged, among other things. You can do many things with these plots (e.g. click on the \"edit\" icon for your `train_loss` plot, and apply smoothing to get a better picture of your loss curve).\n",
        "\n",
        "The charts are a useful feature of the run page that gets opened when you click on the run page link, but they're not the only feature. You can also navigate to the project page (click on the option to the right of **Projects** on the bar at the top of the Wandb page), and see superimposed plots of all the runs in this project. You can also click on the **Table** icon on the left hand sidebar to see a table of all the runs in this project, which contains useful information (e.g. runtime, the most recent values of any logged variables, etc). However, comparing runs like this becomes especially useful when we start doing hyperparameter search."
      ]
    },
    {
      "cell_type": "markdown",
      "metadata": {
        "id": "yEVSxRx69xeO"
      },
      "source": [
        "## Hyperparameter search\n",
        "\n",
        "One way to search for good hyperparameters is to choose a set of values for each hyperparameter, and then search all combinations of those specific values. This is called **grid search**. The values don't need to be evenly spaced and you can incorporate any knowledge you have about plausible values from similar problems to choose the set of values. Searching the product of sets takes exponential time, so is really only feasible if there are a small number of hyperparameters. I would recommend forgetting about grid search if you have more than 3 hyperparameters, which in deep learning is \"always\".\n",
        "\n",
        "A much better idea is for each hyperparameter, decide on a sampling distribution and then on each trial just sample a random value from that distribution. This is called **random search** and back in 2012, you could get a [publication](https://www.jmlr.org/papers/volume13/bergstra12a/bergstra12a.pdf) for this. The diagram below shows the main reason that random search outperforms grid search. Empirically, some hyperparameters matter more than others, and random search benefits from having tried more distinct values in the important dimensions, increasing the chances of finding a \"peak\" between the grid points.\n",
        "\n",
        "<img src=\"https://raw.githubusercontent.com/callummcdougall/Fundamentals/main/images/grid_vs_random.png\" width=\"540\">\n",
        "\n",
        "\n",
        "It's worth noting that both of these searches are vastly less efficient than gradient descent at finding optima - imagine if you could only train neural networks by randomly initializing them and checking the loss! Either of these search methods without a dose of human (or eventually AI) judgement is just a great way to turn electricity into a bunch of models that don't perform very well."
      ]
    },
    {
      "cell_type": "markdown",
      "metadata": {
        "id": "fsizdNJp9z7I"
      },
      "source": [
        "## Running hyperparameter sweeps with `wandb`\n",
        "\n",
        "Now we've come to one of the most impressive features of `wandb` - being able to perform hyperparameter sweeps.\n",
        "\n",
        "To perform hyperparameter sweeps, we follow the following 3-step process:\n",
        "\n",
        "1. Define a `sweep_config` dict, which specifies how we'll randomize hyperparameters during our sweep (more on the exact syntax of this below).\n",
        "2. Define a training function. Importantly, this function just take no arguments (i.e. you should be able to call it as `train()`).\n",
        "    * You will be able to access the values inside `sweep_config[\"parameters\"]` dict using `wandb.config`, you should do this inside your `train()` function.\n",
        "3. Run a sweep, using the `wandb.sweep` and `wandb.agent` functions. This will run the training function with different hyperparameters each time."
      ]
    },
    {
      "cell_type": "markdown",
      "metadata": {
        "id": "zQieI_Dh91ZX"
      },
      "source": [
        "### Exercise - define a sweep config (step 1)\n",
        "\n",
        "```c\n",
        "Difficulty: 🟠🟠⚪⚪⚪\n",
        "Importance: 🟠🟠🟠⚪⚪\n",
        "\n",
        "You should spend up to 10-15 minutes on this exercise.\n",
        "\n",
        "Learning how to use wandb for sweeps is very useful, so make sure you understand all parts of this code.\n",
        "```"
      ]
    },
    {
      "cell_type": "markdown",
      "metadata": {
        "id": "WlKq1izb97Ew"
      },
      "source": [
        "You should define a dictionary `sweep_config`, which sets out the following rules for hyperparameter sweeps:\n",
        "\n",
        "* Hyperparameters are chosen **randomly**, according to the distributions given in the dictionary\n",
        "* Your goal is to **maximize** the **accuracy** metric\n",
        "* The hyperparameters you vary are:\n",
        "    * `learning_rate` - a log-uniform distribution between 1e-4 and 1e-1\n",
        "    * `batch_size` - randomly chosen from (32, 64, 128, 256)\n",
        "    * `epochs` - randomly chosen from (1, 2, 3)\n",
        "\n",
        "*(A note on the log-uniform distribution - this means a random value `X` will be chosen between `min` and `max` s.t. `log(X)` is uniformly distributed between `log(min)` and `log(max)`. Can you see why a log uniform distribution for the learning rate makes more sense than a uniform distribution?)*\n",
        "\n",
        "You can read the syntax for sweep config dictionaries [here](https://docs.wandb.ai/guides/sweeps/define-sweep-configuration)."
      ]
    },
    {
      "cell_type": "code",
      "execution_count": null,
      "metadata": {
        "id": "u-x7fz8p98n6"
      },
      "outputs": [],
      "source": [
        "sweep_config = dict()\n",
        "\n",
        "# YOUR CODE HERE - fill `sweep_config`\n",
        "\n",
        "\n",
        "tests.test_sweep_config(sweep_config)"
      ]
    },
    {
      "cell_type": "markdown",
      "metadata": {
        "id": "_n5rtABx9_Dq"
      },
      "source": [
        "<details>\n",
        "<summary>Solution</summary>\n",
        "\n",
        "```python\n",
        "sweep_config = dict(\n",
        "    method = 'random',\n",
        "    metric = dict(name = 'accuracy', goal = 'maximize'),\n",
        "    parameters = dict(\n",
        "        batch_size = dict(values = [32, 64, 128, 256]),\n",
        "        epochs = dict(min = 1, max = 4),\n",
        "        learning_rate = dict(max = 0.1, min = 0.0001, distribution = 'log_uniform_values'),\n",
        "    )\n",
        ")\n",
        "```\n",
        "</details>"
      ]
    },
    {
      "cell_type": "markdown",
      "metadata": {
        "id": "OptgEHAQ-WhQ"
      },
      "source": [
        "### Exercise - define a training function (step 2)\n",
        "\n",
        "```c\n",
        "Difficulty: 🟠🟠🟠⚪⚪\n",
        "Importance: 🟠🟠⚪⚪⚪\n",
        "\n",
        "You should spend up to 10-15 minutes on this exercise.\n",
        "```"
      ]
    },
    {
      "cell_type": "markdown",
      "metadata": {
        "id": "ellEVZxq-Yny"
      },
      "source": [
        "Now, we have a `train` function. This takes no arguments, and it implements a training loop just like we've seen before. Note that we've set things like `args.batch_size` from the `wandb.config` dictionary, which is how we access the hyperparameters which are set at the start of each sweep.\n",
        "\n",
        "<details>\n",
        "<summary>Question - why do we set these parameters after defining our <code>args</code> object?</summary>\n",
        "\n",
        "Weights & Biases is very particular about the order in which things are defined. In particular, we can't access the `wandb.config` object until we've called `wandb.init()`. The easiest way to get around this is to slightly restructure our trainer's `__init__` method as follows:\n",
        "\n",
        "* Call `wandb.init` first (don't pass a `config` argument),\n",
        "* Then override the values in `args` with the values in `wandb.config`,\n",
        "* Then do the rest of the things in your trainer's `__init__` method (e.g. defining your model and optimizer).\n",
        "\n",
        "You might want to create a class `ResNetTrainingArgsWandbSweeps` for this purpose (which inherits from `ResNetTrainingArgsWandb`, but has a different `__init__` method).\n",
        "\n",
        "</details>"
      ]
    },
    {
      "cell_type": "code",
      "execution_count": null,
      "metadata": {
        "id": "1gUQlBKh-bQD"
      },
      "outputs": [],
      "source": [
        "# (2) Define a training function which takes no arguments, and uses `wandb.config` to get hyperparams\n",
        "\n",
        "def train():\n",
        "    pass"
      ]
    },
    {
      "cell_type": "markdown",
      "metadata": {
        "id": "dGLavjAb-a1j"
      },
      "source": [
        "\n",
        "<details>\n",
        "<summary>Solution</summary>\n",
        "\n",
        "```python\n",
        "class ResNetTrainerWandbSweeps(ResNetTrainerWandb):\n",
        "    '''\n",
        "    New training class made specifically for hyperparameter sweeps, which overrides the values in `args` with\n",
        "    those in `wandb.config` before defining model/optimizer/datasets.\n",
        "    '''\n",
        "\tdef __init__(self, args: ResNetTrainingArgsWandb):\n",
        "\t\twandb.init(project=args.wandb_project, name=args.wandb_name)\n",
        "\t\targs.batch_size = wandb.config[\"batch_size\"]\n",
        "\t\targs.epochs = wandb.config[\"epochs\"]\n",
        "\t\targs.learning_rate = wandb.config[\"learning_rate\"]\n",
        "\t\tself.args = args\n",
        "\t\tself.model = get_resnet_for_feature_extraction(args.n_classes).to(device)\n",
        "\t\tself.optimizer = args.optimizer(self.model.out_layers[-1].parameters(), lr=args.learning_rate)\n",
        "\t\tself.trainset, self.testset = get_cifar(subset=args.subset)\n",
        "\t\tself.step = 0\n",
        "\t\twandb.watch(self.model.out_layers[-1], log=\"all\", log_freq=20)\n",
        "\n",
        "\n",
        "def train():\n",
        "\targs = ResNetTrainingArgsWandb()\n",
        "\ttrainer = ResNetTrainerWandbSweeps(args)\n",
        "\ttrainer.train()\n",
        "```\n",
        "</details>"
      ]
    },
    {
      "cell_type": "markdown",
      "metadata": {
        "id": "eWjykUEj-eQJ"
      },
      "source": [
        "### Run your sweep (step 3)\n",
        "\n",
        "Finally, you can use the code below to run your sweep! This will probably take a while, because you're doing three separate full training and validation runs."
      ]
    },
    {
      "cell_type": "code",
      "execution_count": null,
      "metadata": {
        "id": "1xW73Hfl-fNW"
      },
      "outputs": [],
      "source": [
        "sweep_id = wandb.sweep(sweep=sweep_config, project='day4-resnet-sweep')\n",
        "wandb.agent(sweep_id=sweep_id, function=train, count=3)\n",
        "wandb.finish()"
      ]
    },
    {
      "cell_type": "markdown",
      "metadata": {
        "id": "xN0lnvSJ-hcY"
      },
      "source": [
        "When you run this code, you should click on the link which looks like:\n",
        "\n",
        "```\n",
        "View sweep at https://wandb.ai/<USERNAME>/<PROJECT-NAME>/sweeps/<SWEEP-NAME>\n",
        "```\n",
        "\n",
        "This link will bring you to a page comparing each of your sweeps. You'll be able to see overlaid graphs of each of their training loss and test accuracy, as well as a bunch of other cool things like:\n",
        "\n",
        "* Bar charts of the [importance](https://docs.wandb.ai/ref/app/features/panels/parameter-importance) (and correlation) of each hyperparameter wrt the target metric. Note that only looking at the correlation could be misleading - something can have a correlation of 1, but still have a very small effect on the metric.\n",
        "* A [parallel coordinates plot](https://docs.wandb.ai/ref/app/features/panels/parallel-coordinates), which summarises the relationship between the hyperparameters in your config and the model metric you're optimising.\n",
        "\n",
        "What can you infer from these results? Are there any hyperparameters which are especially correlated / anticorrelated with the target metric? Are there any results which suggest the model is being undertrained?\n"
      ]
    },
    {
      "cell_type": "markdown",
      "metadata": {
        "id": "J2op0soHAryv"
      },
      "source": [
        "\n",
        "<details>\n",
        "<summary>Note on using YAML files (optional)</summary>\n",
        "\n",
        "Rather than using a dictionary, you can alternatively store the `sweep_config` data in a YAML file if you prefer. You will then be able to run a sweep via the following terminal commands:\n",
        "\n",
        "```\n",
        "wandb sweep sweep_config.yaml\n",
        "\n",
        "wandb agent <SWEEP_ID>\n",
        "```\n",
        "\n",
        "where `SWEEP_ID` is the value returned from the first terminal command. You will also need to add another line to the YAML file, specifying the program to be run. For instance, your YAML file might start like this:\n",
        "\n",
        "```yaml\n",
        "program: train.py\n",
        "method: random\n",
        "metric:\n",
        "    name: test_accuracy\n",
        "    goal: maximize\n",
        "```\n",
        "\n",
        "For more, see [this link](https://docs.wandb.ai/guides/sweeps/define-sweep-configuration).\n",
        "\n",
        "</details>"
      ]
    },
    {
      "cell_type": "markdown",
      "metadata": {
        "id": "9wwTcPbIKG7j"
      },
      "source": [
        "# 3️⃣ Bonus\n"
      ]
    },
    {
      "cell_type": "markdown",
      "metadata": {
        "id": "cYJ8iliOKG7j"
      },
      "source": [
        "Congratulations for getting to the end of the main content! This section gives some suggestions for more features of Weights and Biases to explore, or some other experiments you can run.\n"
      ]
    },
    {
      "cell_type": "markdown",
      "metadata": {
        "id": "mkqD2h9gKG7j"
      },
      "source": [
        "## Scaling Laws\n"
      ]
    },
    {
      "cell_type": "markdown",
      "metadata": {
        "id": "vxsQW0dcKG7j"
      },
      "source": [
        "These bonus exercises are taken directly from Jacob Hilton's [online deep learning curriculum](https://github.com/jacobhilton/deep_learning_curriculum/blob/master/2-Scaling-Laws.md) (which is what the original version of the ARENA course was based on).\n",
        "\n",
        "First, you can start by reading the [Chinchilla paper](https://arxiv.org/abs/2203.15556). This is a correction to the original scaling laws paper: parameter count scales linearly with token budget for compute-optimal models, not ~quadratically. The difference comes from using a separately-tuned learning rate schedule for each token budget, rather than using a single training run to measure performance for every token budget. This highlights the importance of hyperparameter tuning for measuring scaling law exponents.\n",
        "\n",
        "You don't have to read the entire paper, just skim the graphs. Don't worry if they don't all make sense yet (it will be more illuminating when we study LLMs next week). Note that, although it specifically applies to language models, the key underlying ideas of tradeoffs between optimal dataset size and model size are generally applicable.\n",
        "\n",
        "### Suggested exercise\n",
        "\n",
        "Perform your own study of scaling laws for MNIST.\n",
        "\n",
        "- Write a script to train a small CNN on MNIST, or find one you have written previously.\n",
        "- Training for a single epoch only, vary the model size and dataset size. For the model size, multiply the width by powers of sqrt(2) (rounding if necessary - the idea is to vary the amount of compute used per forward pass by powers of 2). For the dataset size, multiply the fraction of the full dataset used by powers of 2 (i.e. 1, 1/2, 1/4, ...). To reduce noise, use a few random seeds and always use the full validation set.\n",
        "- The learning rate will need to vary with model size. Either tune it carefully for each model size, or use the rule of thumb that for Adam, the learning rate should be proportional to the initialization scale, i.e. `1/sqrt(fan_in)` for the standard Kaiming He initialization (which is what PyTorch generally uses by default).\n",
        "    - Note - `fan_in` refers to the variable $N_{in}$, which is `in_features` for a linear layer, and `in_channels * kernel_size * kernel_size` for a convolutional layer - in other words, the number of input parameters/activations we take a sumproduct over to get each output activation.\n",
        "- Plot the amount of compute used (on a log scale) against validation loss. The compute-efficient frontier should follow an approximate power law (straight line on a log scale).\n",
        "How does validation accuracy behave?\n",
        "- Study how the compute-efficient model size varies with compute. This should also follow an approximate power law. Try to estimate its exponent.\n",
        "- Repeat your entire experiment with 20% [dropout](https://pytorch.org/docs/stable/generated/torch.nn.Dropout.html) to see how this affects the scaling exponents.\n"
      ]
    },
    {
      "cell_type": "markdown",
      "metadata": {
        "id": "CuxD5x8WKG7k"
      },
      "source": [
        "## Other WandB features: Saving & Logging\n",
        "\n",
        "Here are a few more Weights & Biases features you might also want to play around with:\n",
        "\n",
        "* [Logging media and objects in experiments](https://docs.wandb.ai/guides/track/log?fbclid=IwAR3NxKsGpEjZwq3vSwYkohZllMpBwxHgOCc_k0ByuD9XGUsi_Scf5ELvGsQ) - you'll be doing this during the RL week, and it's useful when you're training generative image models like VAEs and diffusion models.\n",
        "* [Code saving](https://docs.wandb.ai/guides/app/features/panels/code?fbclid=IwAR2BkaXbRf7cqEH8kc1VzqH_kOJWGxqjUb_JCBq_SCnXOx1oF-Rt-hHydb4) - this captures all python source code files in the current director and all subdirectories. It's great for reproducibility, and also for sharing your code with others.\n",
        "* [Saving and loading PyTorch models](https://wandb.ai/wandb/common-ml-errors/reports/How-to-Save-and-Load-Models-in-PyTorch--VmlldzozMjg0MTE?fbclid=IwAR1Y9MzFTxIiVBJG06b4ppitwKWR4H5_ncKyT2F_rR5Z_IHawmpBTKskPcQ) - you can do this easily using `torch.save`, but it's also possible to do this directly through Weights and Biases as an **artifact**."
      ]
    },
    {
      "cell_type": "markdown",
      "metadata": {
        "id": "MYHbcUwXxUFL"
      },
      "source": [
        "## Train your model from scratch\n",
        "\n",
        "Now that you understand how to run training loops, you can try a big one - training your ResNet from scratch on CIFAR-10 data!\n",
        "\n",
        "Here are some tips and suggestions for things you can experiment with:\n",
        "\n",
        "- First, try to reduce training time.\n",
        "    - Starting with a smaller ResNet than the full `ResNet34` is a good idea. Good hyperparameters on the small model tend to transfer over to the larger model because the architecture and the data are the same; the main difference is the larger model may require more regularization to prevent overfitting.\n",
        "    - Bad hyperparameters are usually clearly worse by the end of the first 1-2 epochs. If you can train for fewer epochs, you can test more hyperparameters with the same compute. You can manually abort runs that don't look promising, or you can try to do it automatically; [Hyperband](https://www.jmlr.org/papers/volume18/16-558/16-558.pdf) is a popular algorithm for this.\n",
        "    - Play with optimizations like [Automatic Mixed Precision](https://pytorch.org/docs/stable/amp.html) to see if you get a speed boost.\n",
        "- Random search for a decent learning rate and batch size combination that allows your model to mostly memorize (overfit) the training set.\n",
        "    - It's better to overfit at the start than underfit, because it means your model is capable of learning and has enough capacity.\n",
        "    - Learning rate is often the most important single hyperparameter, so it's important to get a good-enough value early.\n",
        "    - Eventually, you'll want a learning rate schedule. Usually, you'll start low and gradually increase, then gradually decrease but many other schedules are feasible. [Jeremy Jordan](https://www.jeremyjordan.me/nn-learning-rate/) has a good blog post on learning rates.\n",
        "    - Larger batch size increases GPU memory usage and doubling batch size [often allows doubling learning rate](https://arxiv.org/pdf/1706.02677.pdf), up to a point where this relationship breaks down. The heuristic is that larger batches give a more accurate estimate of the direction to update in. Note that on the test set, you can vary the batch size independently and usually the largest value that will fit on your GPU will be the most efficient.\n",
        "- Add regularization to reduce the amount of overfitting and train for longer to see if it's enough.\n",
        "    - Data augmention is the first thing to do - flipping the image horizontally and Cutout are known to be effective.\n",
        "    - Play with the label smoothing parameter to [torch.nn.CrossEntropyLoss](https://pytorch.org/docs/stable/generated/torch.nn.CrossEntropyLoss.html).\n",
        "    - Try adding weight decay to Adam. This is a bit tricky - see this [fast.ai](https://www.fast.ai/2018/07/02/adam-weight-decay/) article if you want to do this, as well as the [PyTorch pseudocode](https://pytorch.org/docs/stable/generated/torch.optim.AdamW.html).\n",
        "- Try a bit of architecture search: play with various numbers of blocks and block groups. Or pick some fancy newfangled nonlinearity and see if it works better than ReLU.\n"
      ]
    },
    {
      "cell_type": "markdown",
      "metadata": {
        "id": "ef-CmUlKxl0x"
      },
      "source": [
        "## The Optimizer's Curse\n",
        "\n",
        "The [optimizer's curse](https://www.lesswrong.com/posts/5gQLrJr2yhPzMCcni/the-optimizer-s-curse-and-how-to-beat-it) applies to tuning hyperparameters. The main take-aways are:\n",
        "\n",
        "- You can expect your best hyperparameter combination to actually underperform in the future. You chose it because it was the best on some metric, but that metric has an element of noise/luck, and the more combinations you test the larger this effect is.\n",
        "- Look at the overall trends and correlations in context and try to make sense of the values you're seeing. Just because you ran a long search process doesn't mean your best output is really the best.\n",
        "\n",
        "For more on this, see [Preventing \"Overfitting\" of Cross-Validation Data](https://ai.stanford.edu/~ang/papers/cv-final.pdf) by Andrew Ng.\n"
      ]
    },
    {
      "cell_type": "markdown",
      "metadata": {
        "id": "VxQDTJO9xo7N"
      },
      "source": [
        "---\n"
      ]
    },
    {
      "cell_type": "markdown",
      "metadata": {
        "id": "P4Srbvudw5Z3"
      },
      "source": [
        "`wandb` is an incredibly useful tool when training models, and you should find yourself using it a fair amount throughout this program. You can always return to this page of exercises if you forget how any part of it works.\n"
      ]
    }
  ],
  "metadata": {
    "accelerator": "GPU",
    "colab": {
      "collapsed_sections": [
        "f0502-wyRh8A",
        "LZqyzRF6yh8-",
        "k9dJxteKhMtz",
        "9wwTcPbIKG7j"
      ],
      "provenance": []
    },
    "gpuClass": "standard",
    "kernelspec": {
      "display_name": "Python 3",
      "name": "python3"
    },
    "language_info": {
      "codemirror_mode": {
        "name": "ipython",
        "version": 3
      },
      "file_extension": ".py",
      "mimetype": "text/x-python",
      "name": "python",
      "nbconvert_exporter": "python",
      "pygments_lexer": "ipython3",
      "version": "3.10.11"
    }
  },
  "nbformat": 4,
  "nbformat_minor": 0
}
